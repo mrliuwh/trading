{
 "cells": [
  {
   "cell_type": "code",
   "execution_count": 5,
   "metadata": {
    "collapsed": false
   },
   "outputs": [
    {
     "ename": "URLError",
     "evalue": "<urlopen error [Errno 11004] getaddrinfo failed>",
     "output_type": "error",
     "traceback": [
      "\u001b[1;31m---------------------------------------------------------------------------\u001b[0m",
      "\u001b[1;31mgaierror\u001b[0m                                  Traceback (most recent call last)",
      "\u001b[1;32mD:\\python\\lib\\urllib\\request.py\u001b[0m in \u001b[0;36mdo_open\u001b[1;34m(self, http_class, req, **http_conn_args)\u001b[0m\n\u001b[0;32m   1253\u001b[0m             \u001b[1;32mtry\u001b[0m\u001b[1;33m:\u001b[0m\u001b[1;33m\u001b[0m\u001b[0m\n\u001b[1;32m-> 1254\u001b[1;33m                 \u001b[0mh\u001b[0m\u001b[1;33m.\u001b[0m\u001b[0mrequest\u001b[0m\u001b[1;33m(\u001b[0m\u001b[0mreq\u001b[0m\u001b[1;33m.\u001b[0m\u001b[0mget_method\u001b[0m\u001b[1;33m(\u001b[0m\u001b[1;33m)\u001b[0m\u001b[1;33m,\u001b[0m \u001b[0mreq\u001b[0m\u001b[1;33m.\u001b[0m\u001b[0mselector\u001b[0m\u001b[1;33m,\u001b[0m \u001b[0mreq\u001b[0m\u001b[1;33m.\u001b[0m\u001b[0mdata\u001b[0m\u001b[1;33m,\u001b[0m \u001b[0mheaders\u001b[0m\u001b[1;33m)\u001b[0m\u001b[1;33m\u001b[0m\u001b[0m\n\u001b[0m\u001b[0;32m   1255\u001b[0m             \u001b[1;32mexcept\u001b[0m \u001b[0mOSError\u001b[0m \u001b[1;32mas\u001b[0m \u001b[0merr\u001b[0m\u001b[1;33m:\u001b[0m \u001b[1;31m# timeout error\u001b[0m\u001b[1;33m\u001b[0m\u001b[0m\n",
      "\u001b[1;32mD:\\python\\lib\\http\\client.py\u001b[0m in \u001b[0;36mrequest\u001b[1;34m(self, method, url, body, headers)\u001b[0m\n\u001b[0;32m   1106\u001b[0m         \u001b[1;34m\"\"\"Send a complete request to the server.\"\"\"\u001b[0m\u001b[1;33m\u001b[0m\u001b[0m\n\u001b[1;32m-> 1107\u001b[1;33m         \u001b[0mself\u001b[0m\u001b[1;33m.\u001b[0m\u001b[0m_send_request\u001b[0m\u001b[1;33m(\u001b[0m\u001b[0mmethod\u001b[0m\u001b[1;33m,\u001b[0m \u001b[0murl\u001b[0m\u001b[1;33m,\u001b[0m \u001b[0mbody\u001b[0m\u001b[1;33m,\u001b[0m \u001b[0mheaders\u001b[0m\u001b[1;33m)\u001b[0m\u001b[1;33m\u001b[0m\u001b[0m\n\u001b[0m\u001b[0;32m   1108\u001b[0m \u001b[1;33m\u001b[0m\u001b[0m\n",
      "\u001b[1;32mD:\\python\\lib\\http\\client.py\u001b[0m in \u001b[0;36m_send_request\u001b[1;34m(self, method, url, body, headers)\u001b[0m\n\u001b[0;32m   1151\u001b[0m             \u001b[0mbody\u001b[0m \u001b[1;33m=\u001b[0m \u001b[0m_encode\u001b[0m\u001b[1;33m(\u001b[0m\u001b[0mbody\u001b[0m\u001b[1;33m,\u001b[0m \u001b[1;34m'body'\u001b[0m\u001b[1;33m)\u001b[0m\u001b[1;33m\u001b[0m\u001b[0m\n\u001b[1;32m-> 1152\u001b[1;33m         \u001b[0mself\u001b[0m\u001b[1;33m.\u001b[0m\u001b[0mendheaders\u001b[0m\u001b[1;33m(\u001b[0m\u001b[0mbody\u001b[0m\u001b[1;33m)\u001b[0m\u001b[1;33m\u001b[0m\u001b[0m\n\u001b[0m\u001b[0;32m   1153\u001b[0m \u001b[1;33m\u001b[0m\u001b[0m\n",
      "\u001b[1;32mD:\\python\\lib\\http\\client.py\u001b[0m in \u001b[0;36mendheaders\u001b[1;34m(self, message_body)\u001b[0m\n\u001b[0;32m   1102\u001b[0m             \u001b[1;32mraise\u001b[0m \u001b[0mCannotSendHeader\u001b[0m\u001b[1;33m(\u001b[0m\u001b[1;33m)\u001b[0m\u001b[1;33m\u001b[0m\u001b[0m\n\u001b[1;32m-> 1103\u001b[1;33m         \u001b[0mself\u001b[0m\u001b[1;33m.\u001b[0m\u001b[0m_send_output\u001b[0m\u001b[1;33m(\u001b[0m\u001b[0mmessage_body\u001b[0m\u001b[1;33m)\u001b[0m\u001b[1;33m\u001b[0m\u001b[0m\n\u001b[0m\u001b[0;32m   1104\u001b[0m \u001b[1;33m\u001b[0m\u001b[0m\n",
      "\u001b[1;32mD:\\python\\lib\\http\\client.py\u001b[0m in \u001b[0;36m_send_output\u001b[1;34m(self, message_body)\u001b[0m\n\u001b[0;32m    933\u001b[0m \u001b[1;33m\u001b[0m\u001b[0m\n\u001b[1;32m--> 934\u001b[1;33m         \u001b[0mself\u001b[0m\u001b[1;33m.\u001b[0m\u001b[0msend\u001b[0m\u001b[1;33m(\u001b[0m\u001b[0mmsg\u001b[0m\u001b[1;33m)\u001b[0m\u001b[1;33m\u001b[0m\u001b[0m\n\u001b[0m\u001b[0;32m    935\u001b[0m         \u001b[1;32mif\u001b[0m \u001b[0mmessage_body\u001b[0m \u001b[1;32mis\u001b[0m \u001b[1;32mnot\u001b[0m \u001b[1;32mNone\u001b[0m\u001b[1;33m:\u001b[0m\u001b[1;33m\u001b[0m\u001b[0m\n",
      "\u001b[1;32mD:\\python\\lib\\http\\client.py\u001b[0m in \u001b[0;36msend\u001b[1;34m(self, data)\u001b[0m\n\u001b[0;32m    876\u001b[0m             \u001b[1;32mif\u001b[0m \u001b[0mself\u001b[0m\u001b[1;33m.\u001b[0m\u001b[0mauto_open\u001b[0m\u001b[1;33m:\u001b[0m\u001b[1;33m\u001b[0m\u001b[0m\n\u001b[1;32m--> 877\u001b[1;33m                 \u001b[0mself\u001b[0m\u001b[1;33m.\u001b[0m\u001b[0mconnect\u001b[0m\u001b[1;33m(\u001b[0m\u001b[1;33m)\u001b[0m\u001b[1;33m\u001b[0m\u001b[0m\n\u001b[0m\u001b[0;32m    878\u001b[0m             \u001b[1;32melse\u001b[0m\u001b[1;33m:\u001b[0m\u001b[1;33m\u001b[0m\u001b[0m\n",
      "\u001b[1;32mD:\\python\\lib\\http\\client.py\u001b[0m in \u001b[0;36mconnect\u001b[1;34m(self)\u001b[0m\n\u001b[0;32m   1252\u001b[0m \u001b[1;33m\u001b[0m\u001b[0m\n\u001b[1;32m-> 1253\u001b[1;33m             \u001b[0msuper\u001b[0m\u001b[1;33m(\u001b[0m\u001b[1;33m)\u001b[0m\u001b[1;33m.\u001b[0m\u001b[0mconnect\u001b[0m\u001b[1;33m(\u001b[0m\u001b[1;33m)\u001b[0m\u001b[1;33m\u001b[0m\u001b[0m\n\u001b[0m\u001b[0;32m   1254\u001b[0m \u001b[1;33m\u001b[0m\u001b[0m\n",
      "\u001b[1;32mD:\\python\\lib\\http\\client.py\u001b[0m in \u001b[0;36mconnect\u001b[1;34m(self)\u001b[0m\n\u001b[0;32m    848\u001b[0m         self.sock = self._create_connection(\n\u001b[1;32m--> 849\u001b[1;33m             (self.host,self.port), self.timeout, self.source_address)\n\u001b[0m\u001b[0;32m    850\u001b[0m         \u001b[0mself\u001b[0m\u001b[1;33m.\u001b[0m\u001b[0msock\u001b[0m\u001b[1;33m.\u001b[0m\u001b[0msetsockopt\u001b[0m\u001b[1;33m(\u001b[0m\u001b[0msocket\u001b[0m\u001b[1;33m.\u001b[0m\u001b[0mIPPROTO_TCP\u001b[0m\u001b[1;33m,\u001b[0m \u001b[0msocket\u001b[0m\u001b[1;33m.\u001b[0m\u001b[0mTCP_NODELAY\u001b[0m\u001b[1;33m,\u001b[0m \u001b[1;36m1\u001b[0m\u001b[1;33m)\u001b[0m\u001b[1;33m\u001b[0m\u001b[0m\n",
      "\u001b[1;32mD:\\python\\lib\\socket.py\u001b[0m in \u001b[0;36mcreate_connection\u001b[1;34m(address, timeout, source_address)\u001b[0m\n\u001b[0;32m    693\u001b[0m     \u001b[0merr\u001b[0m \u001b[1;33m=\u001b[0m \u001b[1;32mNone\u001b[0m\u001b[1;33m\u001b[0m\u001b[0m\n\u001b[1;32m--> 694\u001b[1;33m     \u001b[1;32mfor\u001b[0m \u001b[0mres\u001b[0m \u001b[1;32min\u001b[0m \u001b[0mgetaddrinfo\u001b[0m\u001b[1;33m(\u001b[0m\u001b[0mhost\u001b[0m\u001b[1;33m,\u001b[0m \u001b[0mport\u001b[0m\u001b[1;33m,\u001b[0m \u001b[1;36m0\u001b[0m\u001b[1;33m,\u001b[0m \u001b[0mSOCK_STREAM\u001b[0m\u001b[1;33m)\u001b[0m\u001b[1;33m:\u001b[0m\u001b[1;33m\u001b[0m\u001b[0m\n\u001b[0m\u001b[0;32m    695\u001b[0m         \u001b[0maf\u001b[0m\u001b[1;33m,\u001b[0m \u001b[0msocktype\u001b[0m\u001b[1;33m,\u001b[0m \u001b[0mproto\u001b[0m\u001b[1;33m,\u001b[0m \u001b[0mcanonname\u001b[0m\u001b[1;33m,\u001b[0m \u001b[0msa\u001b[0m \u001b[1;33m=\u001b[0m \u001b[0mres\u001b[0m\u001b[1;33m\u001b[0m\u001b[0m\n",
      "\u001b[1;32mD:\\python\\lib\\socket.py\u001b[0m in \u001b[0;36mgetaddrinfo\u001b[1;34m(host, port, family, type, proto, flags)\u001b[0m\n\u001b[0;32m    732\u001b[0m     \u001b[0maddrlist\u001b[0m \u001b[1;33m=\u001b[0m \u001b[1;33m[\u001b[0m\u001b[1;33m]\u001b[0m\u001b[1;33m\u001b[0m\u001b[0m\n\u001b[1;32m--> 733\u001b[1;33m     \u001b[1;32mfor\u001b[0m \u001b[0mres\u001b[0m \u001b[1;32min\u001b[0m \u001b[0m_socket\u001b[0m\u001b[1;33m.\u001b[0m\u001b[0mgetaddrinfo\u001b[0m\u001b[1;33m(\u001b[0m\u001b[0mhost\u001b[0m\u001b[1;33m,\u001b[0m \u001b[0mport\u001b[0m\u001b[1;33m,\u001b[0m \u001b[0mfamily\u001b[0m\u001b[1;33m,\u001b[0m \u001b[0mtype\u001b[0m\u001b[1;33m,\u001b[0m \u001b[0mproto\u001b[0m\u001b[1;33m,\u001b[0m \u001b[0mflags\u001b[0m\u001b[1;33m)\u001b[0m\u001b[1;33m:\u001b[0m\u001b[1;33m\u001b[0m\u001b[0m\n\u001b[0m\u001b[0;32m    734\u001b[0m         \u001b[0maf\u001b[0m\u001b[1;33m,\u001b[0m \u001b[0msocktype\u001b[0m\u001b[1;33m,\u001b[0m \u001b[0mproto\u001b[0m\u001b[1;33m,\u001b[0m \u001b[0mcanonname\u001b[0m\u001b[1;33m,\u001b[0m \u001b[0msa\u001b[0m \u001b[1;33m=\u001b[0m \u001b[0mres\u001b[0m\u001b[1;33m\u001b[0m\u001b[0m\n",
      "\u001b[1;31mgaierror\u001b[0m: [Errno 11004] getaddrinfo failed",
      "\nDuring handling of the above exception, another exception occurred:\n",
      "\u001b[1;31mURLError\u001b[0m                                  Traceback (most recent call last)",
      "\u001b[1;32m<ipython-input-5-45ad40ccc5de>\u001b[0m in \u001b[0;36m<module>\u001b[1;34m()\u001b[0m\n\u001b[0;32m      1\u001b[0m \u001b[1;32mfrom\u001b[0m \u001b[0myahoo_finance\u001b[0m \u001b[1;32mimport\u001b[0m \u001b[0mShare\u001b[0m\u001b[1;33m\u001b[0m\u001b[0m\n\u001b[1;32m----> 2\u001b[1;33m \u001b[0myahoo\u001b[0m \u001b[1;33m=\u001b[0m \u001b[0mShare\u001b[0m\u001b[1;33m(\u001b[0m\u001b[1;34m'BABA'\u001b[0m\u001b[1;33m)\u001b[0m\u001b[1;33m\u001b[0m\u001b[0m\n\u001b[0m\u001b[0;32m      3\u001b[0m \u001b[0myahoo\u001b[0m\u001b[1;33m.\u001b[0m\u001b[0mget_trade_datetime\u001b[0m\u001b[1;33m(\u001b[0m\u001b[1;33m)\u001b[0m\u001b[1;33m\u001b[0m\u001b[0m\n",
      "\u001b[1;32mD:\\python\\lib\\site-packages\\yahoo_finance\\__init__.py\u001b[0m in \u001b[0;36m__init__\u001b[1;34m(self, symbol)\u001b[0m\n\u001b[0;32m    176\u001b[0m         \u001b[0mself\u001b[0m\u001b[1;33m.\u001b[0m\u001b[0m_table\u001b[0m \u001b[1;33m=\u001b[0m \u001b[1;34m'quotes'\u001b[0m\u001b[1;33m\u001b[0m\u001b[0m\n\u001b[0;32m    177\u001b[0m         \u001b[0mself\u001b[0m\u001b[1;33m.\u001b[0m\u001b[0m_key\u001b[0m \u001b[1;33m=\u001b[0m \u001b[1;34m'symbol'\u001b[0m\u001b[1;33m\u001b[0m\u001b[0m\n\u001b[1;32m--> 178\u001b[1;33m         \u001b[0mself\u001b[0m\u001b[1;33m.\u001b[0m\u001b[0mrefresh\u001b[0m\u001b[1;33m(\u001b[0m\u001b[1;33m)\u001b[0m\u001b[1;33m\u001b[0m\u001b[0m\n\u001b[0m\u001b[0;32m    179\u001b[0m \u001b[1;33m\u001b[0m\u001b[0m\n\u001b[0;32m    180\u001b[0m     \u001b[1;32mdef\u001b[0m \u001b[0m_fetch\u001b[0m\u001b[1;33m(\u001b[0m\u001b[0mself\u001b[0m\u001b[1;33m)\u001b[0m\u001b[1;33m:\u001b[0m\u001b[1;33m\u001b[0m\u001b[0m\n",
      "\u001b[1;32mD:\\python\\lib\\site-packages\\yahoo_finance\\__init__.py\u001b[0m in \u001b[0;36mrefresh\u001b[1;34m(self)\u001b[0m\n\u001b[0;32m    140\u001b[0m \u001b[1;33m\u001b[0m\u001b[0m\n\u001b[0;32m    141\u001b[0m         \"\"\"\n\u001b[1;32m--> 142\u001b[1;33m         \u001b[0mself\u001b[0m\u001b[1;33m.\u001b[0m\u001b[0mdata_set\u001b[0m \u001b[1;33m=\u001b[0m \u001b[0mself\u001b[0m\u001b[1;33m.\u001b[0m\u001b[0m_fetch\u001b[0m\u001b[1;33m(\u001b[0m\u001b[1;33m)\u001b[0m\u001b[1;33m\u001b[0m\u001b[0m\n\u001b[0m\u001b[0;32m    143\u001b[0m \u001b[1;33m\u001b[0m\u001b[0m\n\u001b[0;32m    144\u001b[0m \u001b[1;33m\u001b[0m\u001b[0m\n",
      "\u001b[1;32mD:\\python\\lib\\site-packages\\yahoo_finance\\__init__.py\u001b[0m in \u001b[0;36m_fetch\u001b[1;34m(self)\u001b[0m\n\u001b[0;32m    179\u001b[0m \u001b[1;33m\u001b[0m\u001b[0m\n\u001b[0;32m    180\u001b[0m     \u001b[1;32mdef\u001b[0m \u001b[0m_fetch\u001b[0m\u001b[1;33m(\u001b[0m\u001b[0mself\u001b[0m\u001b[1;33m)\u001b[0m\u001b[1;33m:\u001b[0m\u001b[1;33m\u001b[0m\u001b[0m\n\u001b[1;32m--> 181\u001b[1;33m         \u001b[0mdata\u001b[0m \u001b[1;33m=\u001b[0m \u001b[0msuper\u001b[0m\u001b[1;33m(\u001b[0m\u001b[0mShare\u001b[0m\u001b[1;33m,\u001b[0m \u001b[0mself\u001b[0m\u001b[1;33m)\u001b[0m\u001b[1;33m.\u001b[0m\u001b[0m_fetch\u001b[0m\u001b[1;33m(\u001b[0m\u001b[1;33m)\u001b[0m\u001b[1;33m\u001b[0m\u001b[0m\n\u001b[0m\u001b[0;32m    182\u001b[0m         \u001b[1;32mif\u001b[0m \u001b[0mdata\u001b[0m\u001b[1;33m[\u001b[0m\u001b[1;34m'LastTradeDate'\u001b[0m\u001b[1;33m]\u001b[0m \u001b[1;32mand\u001b[0m \u001b[0mdata\u001b[0m\u001b[1;33m[\u001b[0m\u001b[1;34m'LastTradeTime'\u001b[0m\u001b[1;33m]\u001b[0m\u001b[1;33m:\u001b[0m\u001b[1;33m\u001b[0m\u001b[0m\n\u001b[0;32m    183\u001b[0m             \u001b[0mdata\u001b[0m\u001b[1;33m[\u001b[0m\u001b[1;34mu'LastTradeDateTimeUTC'\u001b[0m\u001b[1;33m]\u001b[0m \u001b[1;33m=\u001b[0m \u001b[0medt_to_utc\u001b[0m\u001b[1;33m(\u001b[0m\u001b[1;34m'{0} {1}'\u001b[0m\u001b[1;33m.\u001b[0m\u001b[0mformat\u001b[0m\u001b[1;33m(\u001b[0m\u001b[0mdata\u001b[0m\u001b[1;33m[\u001b[0m\u001b[1;34m'LastTradeDate'\u001b[0m\u001b[1;33m]\u001b[0m\u001b[1;33m,\u001b[0m \u001b[0mdata\u001b[0m\u001b[1;33m[\u001b[0m\u001b[1;34m'LastTradeTime'\u001b[0m\u001b[1;33m]\u001b[0m\u001b[1;33m)\u001b[0m\u001b[1;33m)\u001b[0m\u001b[1;33m\u001b[0m\u001b[0m\n",
      "\u001b[1;32mD:\\python\\lib\\site-packages\\yahoo_finance\\__init__.py\u001b[0m in \u001b[0;36m_fetch\u001b[1;34m(self)\u001b[0m\n\u001b[0;32m    132\u001b[0m     \u001b[1;32mdef\u001b[0m \u001b[0m_fetch\u001b[0m\u001b[1;33m(\u001b[0m\u001b[0mself\u001b[0m\u001b[1;33m)\u001b[0m\u001b[1;33m:\u001b[0m\u001b[1;33m\u001b[0m\u001b[0m\n\u001b[0;32m    133\u001b[0m         \u001b[0mquery\u001b[0m \u001b[1;33m=\u001b[0m \u001b[0mself\u001b[0m\u001b[1;33m.\u001b[0m\u001b[0m_prepare_query\u001b[0m\u001b[1;33m(\u001b[0m\u001b[0mtable\u001b[0m\u001b[1;33m=\u001b[0m\u001b[0mself\u001b[0m\u001b[1;33m.\u001b[0m\u001b[0m_table\u001b[0m\u001b[1;33m,\u001b[0m \u001b[0mkey\u001b[0m\u001b[1;33m=\u001b[0m\u001b[0mself\u001b[0m\u001b[1;33m.\u001b[0m\u001b[0m_key\u001b[0m\u001b[1;33m)\u001b[0m\u001b[1;33m\u001b[0m\u001b[0m\n\u001b[1;32m--> 134\u001b[1;33m         \u001b[0mdata\u001b[0m \u001b[1;33m=\u001b[0m \u001b[0mself\u001b[0m\u001b[1;33m.\u001b[0m\u001b[0m_request\u001b[0m\u001b[1;33m(\u001b[0m\u001b[0mquery\u001b[0m\u001b[1;33m)\u001b[0m\u001b[1;33m\u001b[0m\u001b[0m\n\u001b[0m\u001b[0;32m    135\u001b[0m         \u001b[1;32mreturn\u001b[0m \u001b[0mdata\u001b[0m\u001b[1;33m\u001b[0m\u001b[0m\n\u001b[0;32m    136\u001b[0m \u001b[1;33m\u001b[0m\u001b[0m\n",
      "\u001b[1;32mD:\\python\\lib\\site-packages\\yahoo_finance\\__init__.py\u001b[0m in \u001b[0;36m_request\u001b[1;34m(self, query)\u001b[0m\n\u001b[0;32m    116\u001b[0m \u001b[1;33m\u001b[0m\u001b[0m\n\u001b[0;32m    117\u001b[0m     \u001b[1;32mdef\u001b[0m \u001b[0m_request\u001b[0m\u001b[1;33m(\u001b[0m\u001b[0mself\u001b[0m\u001b[1;33m,\u001b[0m \u001b[0mquery\u001b[0m\u001b[1;33m)\u001b[0m\u001b[1;33m:\u001b[0m\u001b[1;33m\u001b[0m\u001b[0m\n\u001b[1;32m--> 118\u001b[1;33m         \u001b[0mresponse\u001b[0m \u001b[1;33m=\u001b[0m \u001b[0myql\u001b[0m\u001b[1;33m.\u001b[0m\u001b[0mYQLQuery\u001b[0m\u001b[1;33m(\u001b[0m\u001b[1;33m)\u001b[0m\u001b[1;33m.\u001b[0m\u001b[0mexecute\u001b[0m\u001b[1;33m(\u001b[0m\u001b[0mquery\u001b[0m\u001b[1;33m)\u001b[0m\u001b[1;33m\u001b[0m\u001b[0m\n\u001b[0m\u001b[0;32m    119\u001b[0m         \u001b[1;32mtry\u001b[0m\u001b[1;33m:\u001b[0m\u001b[1;33m\u001b[0m\u001b[0m\n\u001b[0;32m    120\u001b[0m             \u001b[0m_\u001b[0m\u001b[1;33m,\u001b[0m \u001b[0mresults\u001b[0m \u001b[1;33m=\u001b[0m \u001b[0mresponse\u001b[0m\u001b[1;33m[\u001b[0m\u001b[1;34m'query'\u001b[0m\u001b[1;33m]\u001b[0m\u001b[1;33m[\u001b[0m\u001b[1;34m'results'\u001b[0m\u001b[1;33m]\u001b[0m\u001b[1;33m.\u001b[0m\u001b[0mpopitem\u001b[0m\u001b[1;33m(\u001b[0m\u001b[1;33m)\u001b[0m\u001b[1;33m\u001b[0m\u001b[0m\n",
      "\u001b[1;32mD:\\python\\lib\\site-packages\\yahoo_finance\\yql.py\u001b[0m in \u001b[0;36mexecute\u001b[1;34m(self, yql, token)\u001b[0m\n\u001b[0;32m     59\u001b[0m             \u001b[1;34m'q'\u001b[0m\u001b[1;33m:\u001b[0m \u001b[0myql\u001b[0m\u001b[1;33m,\u001b[0m\u001b[1;33m\u001b[0m\u001b[0m\n\u001b[0;32m     60\u001b[0m             \u001b[1;34m'format'\u001b[0m\u001b[1;33m:\u001b[0m \u001b[1;34m'json'\u001b[0m\u001b[1;33m,\u001b[0m\u001b[1;33m\u001b[0m\u001b[0m\n\u001b[1;32m---> 61\u001b[1;33m             \u001b[1;34m'env'\u001b[0m\u001b[1;33m:\u001b[0m \u001b[0mDATATABLES_URL\u001b[0m\u001b[1;33m\u001b[0m\u001b[0m\n\u001b[0m\u001b[0;32m     62\u001b[0m         }))\n\u001b[0;32m     63\u001b[0m         \u001b[1;32mreturn\u001b[0m \u001b[0mloads\u001b[0m\u001b[1;33m(\u001b[0m\u001b[0mreq\u001b[0m\u001b[1;33m.\u001b[0m\u001b[0mread\u001b[0m\u001b[1;33m(\u001b[0m\u001b[1;33m)\u001b[0m\u001b[1;33m)\u001b[0m\u001b[1;33m\u001b[0m\u001b[0m\n",
      "\u001b[1;32mD:\\python\\lib\\urllib\\request.py\u001b[0m in \u001b[0;36murlopen\u001b[1;34m(url, data, timeout, cafile, capath, cadefault, context)\u001b[0m\n\u001b[0;32m    161\u001b[0m     \u001b[1;32melse\u001b[0m\u001b[1;33m:\u001b[0m\u001b[1;33m\u001b[0m\u001b[0m\n\u001b[0;32m    162\u001b[0m         \u001b[0mopener\u001b[0m \u001b[1;33m=\u001b[0m \u001b[0m_opener\u001b[0m\u001b[1;33m\u001b[0m\u001b[0m\n\u001b[1;32m--> 163\u001b[1;33m     \u001b[1;32mreturn\u001b[0m \u001b[0mopener\u001b[0m\u001b[1;33m.\u001b[0m\u001b[0mopen\u001b[0m\u001b[1;33m(\u001b[0m\u001b[0murl\u001b[0m\u001b[1;33m,\u001b[0m \u001b[0mdata\u001b[0m\u001b[1;33m,\u001b[0m \u001b[0mtimeout\u001b[0m\u001b[1;33m)\u001b[0m\u001b[1;33m\u001b[0m\u001b[0m\n\u001b[0m\u001b[0;32m    164\u001b[0m \u001b[1;33m\u001b[0m\u001b[0m\n\u001b[0;32m    165\u001b[0m \u001b[1;32mdef\u001b[0m \u001b[0minstall_opener\u001b[0m\u001b[1;33m(\u001b[0m\u001b[0mopener\u001b[0m\u001b[1;33m)\u001b[0m\u001b[1;33m:\u001b[0m\u001b[1;33m\u001b[0m\u001b[0m\n",
      "\u001b[1;32mD:\\python\\lib\\urllib\\request.py\u001b[0m in \u001b[0;36mopen\u001b[1;34m(self, fullurl, data, timeout)\u001b[0m\n\u001b[0;32m    464\u001b[0m             \u001b[0mreq\u001b[0m \u001b[1;33m=\u001b[0m \u001b[0mmeth\u001b[0m\u001b[1;33m(\u001b[0m\u001b[0mreq\u001b[0m\u001b[1;33m)\u001b[0m\u001b[1;33m\u001b[0m\u001b[0m\n\u001b[0;32m    465\u001b[0m \u001b[1;33m\u001b[0m\u001b[0m\n\u001b[1;32m--> 466\u001b[1;33m         \u001b[0mresponse\u001b[0m \u001b[1;33m=\u001b[0m \u001b[0mself\u001b[0m\u001b[1;33m.\u001b[0m\u001b[0m_open\u001b[0m\u001b[1;33m(\u001b[0m\u001b[0mreq\u001b[0m\u001b[1;33m,\u001b[0m \u001b[0mdata\u001b[0m\u001b[1;33m)\u001b[0m\u001b[1;33m\u001b[0m\u001b[0m\n\u001b[0m\u001b[0;32m    467\u001b[0m \u001b[1;33m\u001b[0m\u001b[0m\n\u001b[0;32m    468\u001b[0m         \u001b[1;31m# post-process response\u001b[0m\u001b[1;33m\u001b[0m\u001b[1;33m\u001b[0m\u001b[0m\n",
      "\u001b[1;32mD:\\python\\lib\\urllib\\request.py\u001b[0m in \u001b[0;36m_open\u001b[1;34m(self, req, data)\u001b[0m\n\u001b[0;32m    482\u001b[0m         \u001b[0mprotocol\u001b[0m \u001b[1;33m=\u001b[0m \u001b[0mreq\u001b[0m\u001b[1;33m.\u001b[0m\u001b[0mtype\u001b[0m\u001b[1;33m\u001b[0m\u001b[0m\n\u001b[0;32m    483\u001b[0m         result = self._call_chain(self.handle_open, protocol, protocol +\n\u001b[1;32m--> 484\u001b[1;33m                                   '_open', req)\n\u001b[0m\u001b[0;32m    485\u001b[0m         \u001b[1;32mif\u001b[0m \u001b[0mresult\u001b[0m\u001b[1;33m:\u001b[0m\u001b[1;33m\u001b[0m\u001b[0m\n\u001b[0;32m    486\u001b[0m             \u001b[1;32mreturn\u001b[0m \u001b[0mresult\u001b[0m\u001b[1;33m\u001b[0m\u001b[0m\n",
      "\u001b[1;32mD:\\python\\lib\\urllib\\request.py\u001b[0m in \u001b[0;36m_call_chain\u001b[1;34m(self, chain, kind, meth_name, *args)\u001b[0m\n\u001b[0;32m    442\u001b[0m         \u001b[1;32mfor\u001b[0m \u001b[0mhandler\u001b[0m \u001b[1;32min\u001b[0m \u001b[0mhandlers\u001b[0m\u001b[1;33m:\u001b[0m\u001b[1;33m\u001b[0m\u001b[0m\n\u001b[0;32m    443\u001b[0m             \u001b[0mfunc\u001b[0m \u001b[1;33m=\u001b[0m \u001b[0mgetattr\u001b[0m\u001b[1;33m(\u001b[0m\u001b[0mhandler\u001b[0m\u001b[1;33m,\u001b[0m \u001b[0mmeth_name\u001b[0m\u001b[1;33m)\u001b[0m\u001b[1;33m\u001b[0m\u001b[0m\n\u001b[1;32m--> 444\u001b[1;33m             \u001b[0mresult\u001b[0m \u001b[1;33m=\u001b[0m \u001b[0mfunc\u001b[0m\u001b[1;33m(\u001b[0m\u001b[1;33m*\u001b[0m\u001b[0margs\u001b[0m\u001b[1;33m)\u001b[0m\u001b[1;33m\u001b[0m\u001b[0m\n\u001b[0m\u001b[0;32m    445\u001b[0m             \u001b[1;32mif\u001b[0m \u001b[0mresult\u001b[0m \u001b[1;32mis\u001b[0m \u001b[1;32mnot\u001b[0m \u001b[1;32mNone\u001b[0m\u001b[1;33m:\u001b[0m\u001b[1;33m\u001b[0m\u001b[0m\n\u001b[0;32m    446\u001b[0m                 \u001b[1;32mreturn\u001b[0m \u001b[0mresult\u001b[0m\u001b[1;33m\u001b[0m\u001b[0m\n",
      "\u001b[1;32mD:\\python\\lib\\urllib\\request.py\u001b[0m in \u001b[0;36mhttps_open\u001b[1;34m(self, req)\u001b[0m\n\u001b[0;32m   1295\u001b[0m         \u001b[1;32mdef\u001b[0m \u001b[0mhttps_open\u001b[0m\u001b[1;33m(\u001b[0m\u001b[0mself\u001b[0m\u001b[1;33m,\u001b[0m \u001b[0mreq\u001b[0m\u001b[1;33m)\u001b[0m\u001b[1;33m:\u001b[0m\u001b[1;33m\u001b[0m\u001b[0m\n\u001b[0;32m   1296\u001b[0m             return self.do_open(http.client.HTTPSConnection, req,\n\u001b[1;32m-> 1297\u001b[1;33m                 context=self._context, check_hostname=self._check_hostname)\n\u001b[0m\u001b[0;32m   1298\u001b[0m \u001b[1;33m\u001b[0m\u001b[0m\n\u001b[0;32m   1299\u001b[0m         \u001b[0mhttps_request\u001b[0m \u001b[1;33m=\u001b[0m \u001b[0mAbstractHTTPHandler\u001b[0m\u001b[1;33m.\u001b[0m\u001b[0mdo_request_\u001b[0m\u001b[1;33m\u001b[0m\u001b[0m\n",
      "\u001b[1;32mD:\\python\\lib\\urllib\\request.py\u001b[0m in \u001b[0;36mdo_open\u001b[1;34m(self, http_class, req, **http_conn_args)\u001b[0m\n\u001b[0;32m   1254\u001b[0m                 \u001b[0mh\u001b[0m\u001b[1;33m.\u001b[0m\u001b[0mrequest\u001b[0m\u001b[1;33m(\u001b[0m\u001b[0mreq\u001b[0m\u001b[1;33m.\u001b[0m\u001b[0mget_method\u001b[0m\u001b[1;33m(\u001b[0m\u001b[1;33m)\u001b[0m\u001b[1;33m,\u001b[0m \u001b[0mreq\u001b[0m\u001b[1;33m.\u001b[0m\u001b[0mselector\u001b[0m\u001b[1;33m,\u001b[0m \u001b[0mreq\u001b[0m\u001b[1;33m.\u001b[0m\u001b[0mdata\u001b[0m\u001b[1;33m,\u001b[0m \u001b[0mheaders\u001b[0m\u001b[1;33m)\u001b[0m\u001b[1;33m\u001b[0m\u001b[0m\n\u001b[0;32m   1255\u001b[0m             \u001b[1;32mexcept\u001b[0m \u001b[0mOSError\u001b[0m \u001b[1;32mas\u001b[0m \u001b[0merr\u001b[0m\u001b[1;33m:\u001b[0m \u001b[1;31m# timeout error\u001b[0m\u001b[1;33m\u001b[0m\u001b[0m\n\u001b[1;32m-> 1256\u001b[1;33m                 \u001b[1;32mraise\u001b[0m \u001b[0mURLError\u001b[0m\u001b[1;33m(\u001b[0m\u001b[0merr\u001b[0m\u001b[1;33m)\u001b[0m\u001b[1;33m\u001b[0m\u001b[0m\n\u001b[0m\u001b[0;32m   1257\u001b[0m             \u001b[0mr\u001b[0m \u001b[1;33m=\u001b[0m \u001b[0mh\u001b[0m\u001b[1;33m.\u001b[0m\u001b[0mgetresponse\u001b[0m\u001b[1;33m(\u001b[0m\u001b[1;33m)\u001b[0m\u001b[1;33m\u001b[0m\u001b[0m\n\u001b[0;32m   1258\u001b[0m         \u001b[1;32mexcept\u001b[0m\u001b[1;33m:\u001b[0m\u001b[1;33m\u001b[0m\u001b[0m\n",
      "\u001b[1;31mURLError\u001b[0m: <urlopen error [Errno 11004] getaddrinfo failed>"
     ]
    }
   ],
   "source": [
    "from yahoo_finance import Share\n",
    "yahoo = Share('BABA')\n",
    "yahoo.get_trade_datetime()"
   ]
  },
  {
   "cell_type": "code",
   "execution_count": null,
   "metadata": {
    "collapsed": false
   },
   "outputs": [],
   "source": [
    "yahoo.get_price()"
   ]
  },
  {
   "cell_type": "code",
   "execution_count": 6,
   "metadata": {
    "collapsed": true
   },
   "outputs": [],
   "source": [
    " from yahoo_finance import Share"
   ]
  },
  {
   "cell_type": "code",
   "execution_count": 7,
   "metadata": {
    "collapsed": false
   },
   "outputs": [
    {
     "ename": "NameError",
     "evalue": "name 'yahoo' is not defined",
     "output_type": "error",
     "traceback": [
      "\u001b[1;31m---------------------------------------------------------------------------\u001b[0m",
      "\u001b[1;31mNameError\u001b[0m                                 Traceback (most recent call last)",
      "\u001b[1;32m<ipython-input-7-a1a2bb545a05>\u001b[0m in \u001b[0;36m<module>\u001b[1;34m()\u001b[0m\n\u001b[1;32m----> 1\u001b[1;33m \u001b[0mtmp\u001b[0m\u001b[1;33m=\u001b[0m\u001b[0myahoo\u001b[0m\u001b[1;33m.\u001b[0m\u001b[0mget_historical\u001b[0m\u001b[1;33m(\u001b[0m\u001b[1;34m'2016-10-25'\u001b[0m\u001b[1;33m,\u001b[0m \u001b[1;34m'2016-12-20'\u001b[0m\u001b[1;33m)\u001b[0m\u001b[1;33m\u001b[0m\u001b[0m\n\u001b[0m",
      "\u001b[1;31mNameError\u001b[0m: name 'yahoo' is not defined"
     ]
    }
   ],
   "source": [
    "tmp=yahoo.get_historical('2016-10-25', '2016-12-20')"
   ]
  },
  {
   "cell_type": "code",
   "execution_count": null,
   "metadata": {
    "collapsed": false
   },
   "outputs": [],
   "source": [
    "tmp[{'Close'}]"
   ]
  },
  {
   "cell_type": "code",
   "execution_count": null,
   "metadata": {
    "collapsed": false
   },
   "outputs": [],
   "source": [
    "\n",
    "tmp[2]['Close']\n"
   ]
  },
  {
   "cell_type": "code",
   "execution_count": null,
   "metadata": {
    "collapsed": false
   },
   "outputs": [],
   "source": [
    "\n",
    "for i in range(2,5):\n",
    "    print ( l[i]**2 )\n"
   ]
  },
  {
   "cell_type": "code",
   "execution_count": null,
   "metadata": {
    "collapsed": false
   },
   "outputs": [],
   "source": [
    "tmp2=tmp[2]"
   ]
  },
  {
   "cell_type": "code",
   "execution_count": null,
   "metadata": {
    "collapsed": false
   },
   "outputs": [],
   "source": [
    "tmp2.keys()\n",
    "tmp[2].keys()\n",
    "tmp[2].values()\n",
    "tmp[2].items()"
   ]
  },
  {
   "cell_type": "code",
   "execution_count": null,
   "metadata": {
    "collapsed": false
   },
   "outputs": [],
   "source": [
    "tmp2['Close']\n",
    "tmp[2]['Close']\n",
    "tmp.loc"
   ]
  },
  {
   "cell_type": "code",
   "execution_count": null,
   "metadata": {
    "collapsed": false
   },
   "outputs": [],
   "source": [
    "yahoo.get_book_value()"
   ]
  },
  {
   "cell_type": "code",
   "execution_count": null,
   "metadata": {
    "collapsed": true
   },
   "outputs": [],
   "source": []
  },
  {
   "cell_type": "code",
   "execution_count": null,
   "metadata": {
    "collapsed": false
   },
   "outputs": [],
   "source": [
    "yahoo.get_50day_moving_avg()"
   ]
  },
  {
   "cell_type": "code",
   "execution_count": null,
   "metadata": {
    "collapsed": false
   },
   "outputs": [],
   "source": [
    "yahoo.get_200day_moving_avg()"
   ]
  },
  {
   "cell_type": "code",
   "execution_count": null,
   "metadata": {
    "collapsed": false
   },
   "outputs": [],
   "source": [
    "yahoo."
   ]
  },
  {
   "cell_type": "code",
   "execution_count": null,
   "metadata": {
    "collapsed": false
   },
   "outputs": [],
   "source": [
    "yahoo.data_set"
   ]
  },
  {
   "cell_type": "code",
   "execution_count": null,
   "metadata": {
    "collapsed": false
   },
   "outputs": [],
   "source": [
    "yahoo.data_set.get('V')"
   ]
  },
  {
   "cell_type": "code",
   "execution_count": null,
   "metadata": {
    "collapsed": false
   },
   "outputs": [],
   "source": [
    "yahoo.get_book_value()"
   ]
  },
  {
   "cell_type": "code",
   "execution_count": null,
   "metadata": {
    "collapsed": true
   },
   "outputs": [],
   "source": [
    "tmp1=yahoo.get_book_value()"
   ]
  },
  {
   "cell_type": "code",
   "execution_count": null,
   "metadata": {
    "collapsed": false
   },
   "outputs": [],
   "source": [
    "tmp1.isalnum"
   ]
  },
  {
   "cell_type": "code",
   "execution_count": 8,
   "metadata": {
    "collapsed": false
   },
   "outputs": [
    {
     "ename": "ImportError",
     "evalue": "No module named 'pysentosa'",
     "output_type": "error",
     "traceback": [
      "\u001b[1;31m---------------------------------------------------------------------------\u001b[0m",
      "\u001b[1;31mImportError\u001b[0m                               Traceback (most recent call last)",
      "\u001b[1;32m<ipython-input-8-7172d2b2c865>\u001b[0m in \u001b[0;36m<module>\u001b[1;34m()\u001b[0m\n\u001b[1;32m----> 1\u001b[1;33m \u001b[1;32mfrom\u001b[0m \u001b[0mpysentosa\u001b[0m\u001b[1;33m.\u001b[0m\u001b[0mdemo\u001b[0m \u001b[1;32mimport\u001b[0m \u001b[0mrun_demo\u001b[0m\u001b[1;33m\u001b[0m\u001b[0m\n\u001b[0m",
      "\u001b[1;31mImportError\u001b[0m: No module named 'pysentosa'"
     ]
    }
   ],
   "source": [
    "from pysentosa.demo import run_demo"
   ]
  },
  {
   "cell_type": "code",
   "execution_count": null,
   "metadata": {
    "collapsed": false
   },
   "outputs": [],
   "source": [
    "GITURL=https://raw.githubusercontent.com/henrywoo/pysentosa/master\n",
    "wget $GITURL/install_nanomsg.sh -O install_nanomsg.sh\n",
    "chmod u+x install_nanomsg.sh\n",
    "./install_nanomsg.sh"
   ]
  },
  {
   "cell_type": "code",
   "execution_count": null,
   "metadata": {
    "collapsed": false
   },
   "outputs": [],
   "source": [
    "import numpy as np\n",
    "import matplotlib.pyplot as plt\n",
    "%matplotlib inline"
   ]
  },
  {
   "cell_type": "code",
   "execution_count": null,
   "metadata": {
    "collapsed": false
   },
   "outputs": [],
   "source": [
    "%prun np.sin(np.arange(100000))"
   ]
  },
  {
   "cell_type": "code",
   "execution_count": null,
   "metadata": {
    "collapsed": false
   },
   "outputs": [],
   "source": [
    "np.arange(1000)"
   ]
  },
  {
   "cell_type": "markdown",
   "metadata": {},
   "source": [
    "# Read from Google source"
   ]
  },
  {
   "cell_type": "code",
   "execution_count": 10,
   "metadata": {
    "collapsed": false
   },
   "outputs": [],
   "source": [
    "import numpy as np\n",
    "import pandas as pd\n",
    "#import pandas.io.data as web\n",
    "import matplotlib\n",
    "import numpy as np\n",
    "import matplotlib.pyplot as plt\n",
    "%matplotlib inline\n",
    "from pandas_datareader import data, wb "
   ]
  },
  {
   "cell_type": "code",
   "execution_count": 1,
   "metadata": {
    "collapsed": true
   },
   "outputs": [],
   "source": [
    "import pandas_datareader.data as web"
   ]
  },
  {
   "cell_type": "code",
   "execution_count": null,
   "metadata": {
    "collapsed": true
   },
   "outputs": [],
   "source": []
  },
  {
   "cell_type": "code",
   "execution_count": 11,
   "metadata": {
    "collapsed": false
   },
   "outputs": [],
   "source": [
    "goog=web.DataReader ('TSLA', data_source='yahoo', start='1/1/2015', end='12/20/2016')"
   ]
  },
  {
   "cell_type": "code",
   "execution_count": 12,
   "metadata": {
    "collapsed": false
   },
   "outputs": [
    {
     "data": {
      "text/html": [
       "<div>\n",
       "<style scoped>\n",
       "    .dataframe tbody tr th:only-of-type {\n",
       "        vertical-align: middle;\n",
       "    }\n",
       "\n",
       "    .dataframe tbody tr th {\n",
       "        vertical-align: top;\n",
       "    }\n",
       "\n",
       "    .dataframe thead th {\n",
       "        text-align: right;\n",
       "    }\n",
       "</style>\n",
       "<table border=\"1\" class=\"dataframe\">\n",
       "  <thead>\n",
       "    <tr style=\"text-align: right;\">\n",
       "      <th></th>\n",
       "      <th>High</th>\n",
       "      <th>Low</th>\n",
       "      <th>Open</th>\n",
       "      <th>Close</th>\n",
       "      <th>Volume</th>\n",
       "      <th>Adj Close</th>\n",
       "    </tr>\n",
       "    <tr>\n",
       "      <th>Date</th>\n",
       "      <th></th>\n",
       "      <th></th>\n",
       "      <th></th>\n",
       "      <th></th>\n",
       "      <th></th>\n",
       "      <th></th>\n",
       "    </tr>\n",
       "  </thead>\n",
       "  <tbody>\n",
       "    <tr>\n",
       "      <th>2015-01-02</th>\n",
       "      <td>223.250000</td>\n",
       "      <td>213.259995</td>\n",
       "      <td>222.869995</td>\n",
       "      <td>219.309998</td>\n",
       "      <td>4764400</td>\n",
       "      <td>219.309998</td>\n",
       "    </tr>\n",
       "    <tr>\n",
       "      <th>2015-01-05</th>\n",
       "      <td>216.500000</td>\n",
       "      <td>207.160004</td>\n",
       "      <td>214.550003</td>\n",
       "      <td>210.089996</td>\n",
       "      <td>5368500</td>\n",
       "      <td>210.089996</td>\n",
       "    </tr>\n",
       "    <tr>\n",
       "      <th>2015-01-06</th>\n",
       "      <td>214.199997</td>\n",
       "      <td>204.210007</td>\n",
       "      <td>210.059998</td>\n",
       "      <td>211.279999</td>\n",
       "      <td>6261900</td>\n",
       "      <td>211.279999</td>\n",
       "    </tr>\n",
       "    <tr>\n",
       "      <th>2015-01-07</th>\n",
       "      <td>214.779999</td>\n",
       "      <td>209.779999</td>\n",
       "      <td>213.350006</td>\n",
       "      <td>210.949997</td>\n",
       "      <td>2968400</td>\n",
       "      <td>210.949997</td>\n",
       "    </tr>\n",
       "    <tr>\n",
       "      <th>2015-01-08</th>\n",
       "      <td>213.800003</td>\n",
       "      <td>210.009995</td>\n",
       "      <td>212.809998</td>\n",
       "      <td>210.619995</td>\n",
       "      <td>3442500</td>\n",
       "      <td>210.619995</td>\n",
       "    </tr>\n",
       "    <tr>\n",
       "      <th>2015-01-09</th>\n",
       "      <td>209.979996</td>\n",
       "      <td>204.960007</td>\n",
       "      <td>208.919998</td>\n",
       "      <td>206.660004</td>\n",
       "      <td>4591300</td>\n",
       "      <td>206.660004</td>\n",
       "    </tr>\n",
       "    <tr>\n",
       "      <th>2015-01-12</th>\n",
       "      <td>204.470001</td>\n",
       "      <td>199.250000</td>\n",
       "      <td>203.050003</td>\n",
       "      <td>202.210007</td>\n",
       "      <td>5944200</td>\n",
       "      <td>202.210007</td>\n",
       "    </tr>\n",
       "    <tr>\n",
       "      <th>2015-01-13</th>\n",
       "      <td>207.610001</td>\n",
       "      <td>200.910004</td>\n",
       "      <td>203.320007</td>\n",
       "      <td>204.250000</td>\n",
       "      <td>4477300</td>\n",
       "      <td>204.250000</td>\n",
       "    </tr>\n",
       "    <tr>\n",
       "      <th>2015-01-14</th>\n",
       "      <td>195.199997</td>\n",
       "      <td>185.000000</td>\n",
       "      <td>185.830002</td>\n",
       "      <td>192.690002</td>\n",
       "      <td>11551900</td>\n",
       "      <td>192.690002</td>\n",
       "    </tr>\n",
       "    <tr>\n",
       "      <th>2015-01-15</th>\n",
       "      <td>195.750000</td>\n",
       "      <td>190.000000</td>\n",
       "      <td>194.490005</td>\n",
       "      <td>191.869995</td>\n",
       "      <td>5216500</td>\n",
       "      <td>191.869995</td>\n",
       "    </tr>\n",
       "    <tr>\n",
       "      <th>2015-01-16</th>\n",
       "      <td>194.490005</td>\n",
       "      <td>189.649994</td>\n",
       "      <td>190.699997</td>\n",
       "      <td>193.070007</td>\n",
       "      <td>3603200</td>\n",
       "      <td>193.070007</td>\n",
       "    </tr>\n",
       "    <tr>\n",
       "      <th>2015-01-20</th>\n",
       "      <td>194.119995</td>\n",
       "      <td>187.039993</td>\n",
       "      <td>193.869995</td>\n",
       "      <td>191.929993</td>\n",
       "      <td>4489400</td>\n",
       "      <td>191.929993</td>\n",
       "    </tr>\n",
       "    <tr>\n",
       "      <th>2015-01-21</th>\n",
       "      <td>198.679993</td>\n",
       "      <td>189.509995</td>\n",
       "      <td>189.550003</td>\n",
       "      <td>196.570007</td>\n",
       "      <td>4153000</td>\n",
       "      <td>196.570007</td>\n",
       "    </tr>\n",
       "    <tr>\n",
       "      <th>2015-01-22</th>\n",
       "      <td>203.240005</td>\n",
       "      <td>195.199997</td>\n",
       "      <td>197.000000</td>\n",
       "      <td>201.619995</td>\n",
       "      <td>4116900</td>\n",
       "      <td>201.619995</td>\n",
       "    </tr>\n",
       "    <tr>\n",
       "      <th>2015-01-23</th>\n",
       "      <td>203.500000</td>\n",
       "      <td>198.330002</td>\n",
       "      <td>200.289993</td>\n",
       "      <td>201.289993</td>\n",
       "      <td>3438600</td>\n",
       "      <td>201.289993</td>\n",
       "    </tr>\n",
       "    <tr>\n",
       "      <th>2015-01-26</th>\n",
       "      <td>208.619995</td>\n",
       "      <td>201.050003</td>\n",
       "      <td>201.830002</td>\n",
       "      <td>206.550003</td>\n",
       "      <td>3234500</td>\n",
       "      <td>206.550003</td>\n",
       "    </tr>\n",
       "    <tr>\n",
       "      <th>2015-01-27</th>\n",
       "      <td>208.029999</td>\n",
       "      <td>203.300003</td>\n",
       "      <td>204.419998</td>\n",
       "      <td>205.979996</td>\n",
       "      <td>2781000</td>\n",
       "      <td>205.979996</td>\n",
       "    </tr>\n",
       "    <tr>\n",
       "      <th>2015-01-28</th>\n",
       "      <td>206.369995</td>\n",
       "      <td>198.419998</td>\n",
       "      <td>206.110001</td>\n",
       "      <td>199.369995</td>\n",
       "      <td>3149600</td>\n",
       "      <td>199.369995</td>\n",
       "    </tr>\n",
       "    <tr>\n",
       "      <th>2015-01-29</th>\n",
       "      <td>205.979996</td>\n",
       "      <td>196.500000</td>\n",
       "      <td>201.070007</td>\n",
       "      <td>205.199997</td>\n",
       "      <td>3548100</td>\n",
       "      <td>205.199997</td>\n",
       "    </tr>\n",
       "    <tr>\n",
       "      <th>2015-01-30</th>\n",
       "      <td>207.470001</td>\n",
       "      <td>203.000000</td>\n",
       "      <td>203.960007</td>\n",
       "      <td>203.600006</td>\n",
       "      <td>3007000</td>\n",
       "      <td>203.600006</td>\n",
       "    </tr>\n",
       "    <tr>\n",
       "      <th>2015-02-02</th>\n",
       "      <td>211.949997</td>\n",
       "      <td>203.300003</td>\n",
       "      <td>203.970001</td>\n",
       "      <td>210.940002</td>\n",
       "      <td>4149200</td>\n",
       "      <td>210.940002</td>\n",
       "    </tr>\n",
       "    <tr>\n",
       "      <th>2015-02-03</th>\n",
       "      <td>220.369995</td>\n",
       "      <td>211.270004</td>\n",
       "      <td>213.220001</td>\n",
       "      <td>218.360001</td>\n",
       "      <td>4812900</td>\n",
       "      <td>218.360001</td>\n",
       "    </tr>\n",
       "    <tr>\n",
       "      <th>2015-02-04</th>\n",
       "      <td>221.479996</td>\n",
       "      <td>216.800003</td>\n",
       "      <td>218.289993</td>\n",
       "      <td>218.550003</td>\n",
       "      <td>3305400</td>\n",
       "      <td>218.550003</td>\n",
       "    </tr>\n",
       "    <tr>\n",
       "      <th>2015-02-05</th>\n",
       "      <td>225.479996</td>\n",
       "      <td>219.639999</td>\n",
       "      <td>219.880005</td>\n",
       "      <td>220.990005</td>\n",
       "      <td>3522900</td>\n",
       "      <td>220.990005</td>\n",
       "    </tr>\n",
       "    <tr>\n",
       "      <th>2015-02-06</th>\n",
       "      <td>223.399994</td>\n",
       "      <td>216.500000</td>\n",
       "      <td>222.000000</td>\n",
       "      <td>217.360001</td>\n",
       "      <td>3233200</td>\n",
       "      <td>217.360001</td>\n",
       "    </tr>\n",
       "    <tr>\n",
       "      <th>2015-02-09</th>\n",
       "      <td>217.929993</td>\n",
       "      <td>211.990005</td>\n",
       "      <td>215.380005</td>\n",
       "      <td>217.479996</td>\n",
       "      <td>3472400</td>\n",
       "      <td>217.479996</td>\n",
       "    </tr>\n",
       "    <tr>\n",
       "      <th>2015-02-10</th>\n",
       "      <td>220.500000</td>\n",
       "      <td>215.000000</td>\n",
       "      <td>217.550003</td>\n",
       "      <td>216.289993</td>\n",
       "      <td>5390500</td>\n",
       "      <td>216.289993</td>\n",
       "    </tr>\n",
       "    <tr>\n",
       "      <th>2015-02-11</th>\n",
       "      <td>214.740005</td>\n",
       "      <td>207.279999</td>\n",
       "      <td>212.210007</td>\n",
       "      <td>212.800003</td>\n",
       "      <td>9769100</td>\n",
       "      <td>212.800003</td>\n",
       "    </tr>\n",
       "    <tr>\n",
       "      <th>2015-02-12</th>\n",
       "      <td>203.089996</td>\n",
       "      <td>193.279999</td>\n",
       "      <td>193.570007</td>\n",
       "      <td>202.880005</td>\n",
       "      <td>15649600</td>\n",
       "      <td>202.880005</td>\n",
       "    </tr>\n",
       "    <tr>\n",
       "      <th>2015-02-13</th>\n",
       "      <td>205.990005</td>\n",
       "      <td>200.910004</td>\n",
       "      <td>202.899994</td>\n",
       "      <td>203.770004</td>\n",
       "      <td>6191000</td>\n",
       "      <td>203.770004</td>\n",
       "    </tr>\n",
       "    <tr>\n",
       "      <th>...</th>\n",
       "      <td>...</td>\n",
       "      <td>...</td>\n",
       "      <td>...</td>\n",
       "      <td>...</td>\n",
       "      <td>...</td>\n",
       "      <td>...</td>\n",
       "    </tr>\n",
       "    <tr>\n",
       "      <th>2016-11-09</th>\n",
       "      <td>192.000000</td>\n",
       "      <td>183.949997</td>\n",
       "      <td>186.880005</td>\n",
       "      <td>190.059998</td>\n",
       "      <td>8173100</td>\n",
       "      <td>190.059998</td>\n",
       "    </tr>\n",
       "    <tr>\n",
       "      <th>2016-11-10</th>\n",
       "      <td>191.610001</td>\n",
       "      <td>180.419998</td>\n",
       "      <td>191.050003</td>\n",
       "      <td>185.350006</td>\n",
       "      <td>6750300</td>\n",
       "      <td>185.350006</td>\n",
       "    </tr>\n",
       "    <tr>\n",
       "      <th>2016-11-11</th>\n",
       "      <td>188.880005</td>\n",
       "      <td>183.000000</td>\n",
       "      <td>184.240005</td>\n",
       "      <td>188.559998</td>\n",
       "      <td>3988500</td>\n",
       "      <td>188.559998</td>\n",
       "    </tr>\n",
       "    <tr>\n",
       "      <th>2016-11-14</th>\n",
       "      <td>188.250000</td>\n",
       "      <td>178.190002</td>\n",
       "      <td>188.000000</td>\n",
       "      <td>181.449997</td>\n",
       "      <td>6542200</td>\n",
       "      <td>181.449997</td>\n",
       "    </tr>\n",
       "    <tr>\n",
       "      <th>2016-11-15</th>\n",
       "      <td>186.429993</td>\n",
       "      <td>182.050003</td>\n",
       "      <td>182.779999</td>\n",
       "      <td>183.770004</td>\n",
       "      <td>3902000</td>\n",
       "      <td>183.770004</td>\n",
       "    </tr>\n",
       "    <tr>\n",
       "      <th>2016-11-16</th>\n",
       "      <td>184.729996</td>\n",
       "      <td>181.210007</td>\n",
       "      <td>182.649994</td>\n",
       "      <td>183.929993</td>\n",
       "      <td>3430400</td>\n",
       "      <td>183.929993</td>\n",
       "    </tr>\n",
       "    <tr>\n",
       "      <th>2016-11-17</th>\n",
       "      <td>189.490005</td>\n",
       "      <td>182.110001</td>\n",
       "      <td>183.490005</td>\n",
       "      <td>188.660004</td>\n",
       "      <td>4887100</td>\n",
       "      <td>188.660004</td>\n",
       "    </tr>\n",
       "    <tr>\n",
       "      <th>2016-11-18</th>\n",
       "      <td>193.000000</td>\n",
       "      <td>185.000000</td>\n",
       "      <td>190.649994</td>\n",
       "      <td>185.020004</td>\n",
       "      <td>5210300</td>\n",
       "      <td>185.020004</td>\n",
       "    </tr>\n",
       "    <tr>\n",
       "      <th>2016-11-21</th>\n",
       "      <td>188.889999</td>\n",
       "      <td>184.410004</td>\n",
       "      <td>185.039993</td>\n",
       "      <td>184.520004</td>\n",
       "      <td>4361000</td>\n",
       "      <td>184.520004</td>\n",
       "    </tr>\n",
       "    <tr>\n",
       "      <th>2016-11-22</th>\n",
       "      <td>191.470001</td>\n",
       "      <td>183.710007</td>\n",
       "      <td>185.839996</td>\n",
       "      <td>191.169998</td>\n",
       "      <td>5603400</td>\n",
       "      <td>191.169998</td>\n",
       "    </tr>\n",
       "    <tr>\n",
       "      <th>2016-11-23</th>\n",
       "      <td>195.639999</td>\n",
       "      <td>189.000000</td>\n",
       "      <td>190.610001</td>\n",
       "      <td>193.139999</td>\n",
       "      <td>4885300</td>\n",
       "      <td>193.139999</td>\n",
       "    </tr>\n",
       "    <tr>\n",
       "      <th>2016-11-25</th>\n",
       "      <td>197.240005</td>\n",
       "      <td>193.639999</td>\n",
       "      <td>193.639999</td>\n",
       "      <td>196.649994</td>\n",
       "      <td>2366100</td>\n",
       "      <td>196.649994</td>\n",
       "    </tr>\n",
       "    <tr>\n",
       "      <th>2016-11-28</th>\n",
       "      <td>199.350006</td>\n",
       "      <td>194.550003</td>\n",
       "      <td>195.479996</td>\n",
       "      <td>196.119995</td>\n",
       "      <td>4529200</td>\n",
       "      <td>196.119995</td>\n",
       "    </tr>\n",
       "    <tr>\n",
       "      <th>2016-11-29</th>\n",
       "      <td>196.729996</td>\n",
       "      <td>189.500000</td>\n",
       "      <td>195.559998</td>\n",
       "      <td>189.570007</td>\n",
       "      <td>4439300</td>\n",
       "      <td>189.570007</td>\n",
       "    </tr>\n",
       "    <tr>\n",
       "      <th>2016-11-30</th>\n",
       "      <td>191.889999</td>\n",
       "      <td>187.500000</td>\n",
       "      <td>191.000000</td>\n",
       "      <td>189.399994</td>\n",
       "      <td>3547100</td>\n",
       "      <td>189.399994</td>\n",
       "    </tr>\n",
       "    <tr>\n",
       "      <th>2016-12-01</th>\n",
       "      <td>188.529999</td>\n",
       "      <td>181.000000</td>\n",
       "      <td>188.250000</td>\n",
       "      <td>181.880005</td>\n",
       "      <td>5126400</td>\n",
       "      <td>181.880005</td>\n",
       "    </tr>\n",
       "    <tr>\n",
       "      <th>2016-12-02</th>\n",
       "      <td>184.880005</td>\n",
       "      <td>180.000000</td>\n",
       "      <td>182.880005</td>\n",
       "      <td>181.470001</td>\n",
       "      <td>4042300</td>\n",
       "      <td>181.470001</td>\n",
       "    </tr>\n",
       "    <tr>\n",
       "      <th>2016-12-05</th>\n",
       "      <td>188.889999</td>\n",
       "      <td>182.509995</td>\n",
       "      <td>182.509995</td>\n",
       "      <td>186.800003</td>\n",
       "      <td>4072200</td>\n",
       "      <td>186.800003</td>\n",
       "    </tr>\n",
       "    <tr>\n",
       "      <th>2016-12-06</th>\n",
       "      <td>186.580002</td>\n",
       "      <td>182.679993</td>\n",
       "      <td>185.520004</td>\n",
       "      <td>185.850006</td>\n",
       "      <td>3391600</td>\n",
       "      <td>185.850006</td>\n",
       "    </tr>\n",
       "    <tr>\n",
       "      <th>2016-12-07</th>\n",
       "      <td>193.399994</td>\n",
       "      <td>185.000000</td>\n",
       "      <td>186.149994</td>\n",
       "      <td>193.149994</td>\n",
       "      <td>5461900</td>\n",
       "      <td>193.149994</td>\n",
       "    </tr>\n",
       "    <tr>\n",
       "      <th>2016-12-08</th>\n",
       "      <td>192.500000</td>\n",
       "      <td>189.539993</td>\n",
       "      <td>192.050003</td>\n",
       "      <td>192.289993</td>\n",
       "      <td>3194100</td>\n",
       "      <td>192.289993</td>\n",
       "    </tr>\n",
       "    <tr>\n",
       "      <th>2016-12-09</th>\n",
       "      <td>193.839996</td>\n",
       "      <td>190.809998</td>\n",
       "      <td>190.869995</td>\n",
       "      <td>192.179993</td>\n",
       "      <td>2722500</td>\n",
       "      <td>192.179993</td>\n",
       "    </tr>\n",
       "    <tr>\n",
       "      <th>2016-12-12</th>\n",
       "      <td>194.419998</td>\n",
       "      <td>191.179993</td>\n",
       "      <td>192.800003</td>\n",
       "      <td>192.429993</td>\n",
       "      <td>2438900</td>\n",
       "      <td>192.429993</td>\n",
       "    </tr>\n",
       "    <tr>\n",
       "      <th>2016-12-13</th>\n",
       "      <td>201.279999</td>\n",
       "      <td>193.000000</td>\n",
       "      <td>193.179993</td>\n",
       "      <td>198.149994</td>\n",
       "      <td>6823900</td>\n",
       "      <td>198.149994</td>\n",
       "    </tr>\n",
       "    <tr>\n",
       "      <th>2016-12-14</th>\n",
       "      <td>203.000000</td>\n",
       "      <td>196.759995</td>\n",
       "      <td>198.740005</td>\n",
       "      <td>198.690002</td>\n",
       "      <td>4150900</td>\n",
       "      <td>198.690002</td>\n",
       "    </tr>\n",
       "    <tr>\n",
       "      <th>2016-12-15</th>\n",
       "      <td>200.740005</td>\n",
       "      <td>197.389999</td>\n",
       "      <td>198.410004</td>\n",
       "      <td>197.580002</td>\n",
       "      <td>3219600</td>\n",
       "      <td>197.580002</td>\n",
       "    </tr>\n",
       "    <tr>\n",
       "      <th>2016-12-16</th>\n",
       "      <td>202.589996</td>\n",
       "      <td>197.600006</td>\n",
       "      <td>198.080002</td>\n",
       "      <td>202.490005</td>\n",
       "      <td>3779800</td>\n",
       "      <td>202.490005</td>\n",
       "    </tr>\n",
       "    <tr>\n",
       "      <th>2016-12-19</th>\n",
       "      <td>204.449997</td>\n",
       "      <td>199.839996</td>\n",
       "      <td>202.490005</td>\n",
       "      <td>202.729996</td>\n",
       "      <td>3488100</td>\n",
       "      <td>202.729996</td>\n",
       "    </tr>\n",
       "    <tr>\n",
       "      <th>2016-12-20</th>\n",
       "      <td>209.000000</td>\n",
       "      <td>202.500000</td>\n",
       "      <td>203.050003</td>\n",
       "      <td>208.789993</td>\n",
       "      <td>4689100</td>\n",
       "      <td>208.789993</td>\n",
       "    </tr>\n",
       "    <tr>\n",
       "      <th>2016-12-21</th>\n",
       "      <td>212.229996</td>\n",
       "      <td>207.410004</td>\n",
       "      <td>208.449997</td>\n",
       "      <td>207.699997</td>\n",
       "      <td>5207600</td>\n",
       "      <td>207.699997</td>\n",
       "    </tr>\n",
       "  </tbody>\n",
       "</table>\n",
       "<p>498 rows × 6 columns</p>\n",
       "</div>"
      ],
      "text/plain": [
       "                  High         Low        Open       Close    Volume  \\\n",
       "Date                                                                   \n",
       "2015-01-02  223.250000  213.259995  222.869995  219.309998   4764400   \n",
       "2015-01-05  216.500000  207.160004  214.550003  210.089996   5368500   \n",
       "2015-01-06  214.199997  204.210007  210.059998  211.279999   6261900   \n",
       "2015-01-07  214.779999  209.779999  213.350006  210.949997   2968400   \n",
       "2015-01-08  213.800003  210.009995  212.809998  210.619995   3442500   \n",
       "2015-01-09  209.979996  204.960007  208.919998  206.660004   4591300   \n",
       "2015-01-12  204.470001  199.250000  203.050003  202.210007   5944200   \n",
       "2015-01-13  207.610001  200.910004  203.320007  204.250000   4477300   \n",
       "2015-01-14  195.199997  185.000000  185.830002  192.690002  11551900   \n",
       "2015-01-15  195.750000  190.000000  194.490005  191.869995   5216500   \n",
       "2015-01-16  194.490005  189.649994  190.699997  193.070007   3603200   \n",
       "2015-01-20  194.119995  187.039993  193.869995  191.929993   4489400   \n",
       "2015-01-21  198.679993  189.509995  189.550003  196.570007   4153000   \n",
       "2015-01-22  203.240005  195.199997  197.000000  201.619995   4116900   \n",
       "2015-01-23  203.500000  198.330002  200.289993  201.289993   3438600   \n",
       "2015-01-26  208.619995  201.050003  201.830002  206.550003   3234500   \n",
       "2015-01-27  208.029999  203.300003  204.419998  205.979996   2781000   \n",
       "2015-01-28  206.369995  198.419998  206.110001  199.369995   3149600   \n",
       "2015-01-29  205.979996  196.500000  201.070007  205.199997   3548100   \n",
       "2015-01-30  207.470001  203.000000  203.960007  203.600006   3007000   \n",
       "2015-02-02  211.949997  203.300003  203.970001  210.940002   4149200   \n",
       "2015-02-03  220.369995  211.270004  213.220001  218.360001   4812900   \n",
       "2015-02-04  221.479996  216.800003  218.289993  218.550003   3305400   \n",
       "2015-02-05  225.479996  219.639999  219.880005  220.990005   3522900   \n",
       "2015-02-06  223.399994  216.500000  222.000000  217.360001   3233200   \n",
       "2015-02-09  217.929993  211.990005  215.380005  217.479996   3472400   \n",
       "2015-02-10  220.500000  215.000000  217.550003  216.289993   5390500   \n",
       "2015-02-11  214.740005  207.279999  212.210007  212.800003   9769100   \n",
       "2015-02-12  203.089996  193.279999  193.570007  202.880005  15649600   \n",
       "2015-02-13  205.990005  200.910004  202.899994  203.770004   6191000   \n",
       "...                ...         ...         ...         ...       ...   \n",
       "2016-11-09  192.000000  183.949997  186.880005  190.059998   8173100   \n",
       "2016-11-10  191.610001  180.419998  191.050003  185.350006   6750300   \n",
       "2016-11-11  188.880005  183.000000  184.240005  188.559998   3988500   \n",
       "2016-11-14  188.250000  178.190002  188.000000  181.449997   6542200   \n",
       "2016-11-15  186.429993  182.050003  182.779999  183.770004   3902000   \n",
       "2016-11-16  184.729996  181.210007  182.649994  183.929993   3430400   \n",
       "2016-11-17  189.490005  182.110001  183.490005  188.660004   4887100   \n",
       "2016-11-18  193.000000  185.000000  190.649994  185.020004   5210300   \n",
       "2016-11-21  188.889999  184.410004  185.039993  184.520004   4361000   \n",
       "2016-11-22  191.470001  183.710007  185.839996  191.169998   5603400   \n",
       "2016-11-23  195.639999  189.000000  190.610001  193.139999   4885300   \n",
       "2016-11-25  197.240005  193.639999  193.639999  196.649994   2366100   \n",
       "2016-11-28  199.350006  194.550003  195.479996  196.119995   4529200   \n",
       "2016-11-29  196.729996  189.500000  195.559998  189.570007   4439300   \n",
       "2016-11-30  191.889999  187.500000  191.000000  189.399994   3547100   \n",
       "2016-12-01  188.529999  181.000000  188.250000  181.880005   5126400   \n",
       "2016-12-02  184.880005  180.000000  182.880005  181.470001   4042300   \n",
       "2016-12-05  188.889999  182.509995  182.509995  186.800003   4072200   \n",
       "2016-12-06  186.580002  182.679993  185.520004  185.850006   3391600   \n",
       "2016-12-07  193.399994  185.000000  186.149994  193.149994   5461900   \n",
       "2016-12-08  192.500000  189.539993  192.050003  192.289993   3194100   \n",
       "2016-12-09  193.839996  190.809998  190.869995  192.179993   2722500   \n",
       "2016-12-12  194.419998  191.179993  192.800003  192.429993   2438900   \n",
       "2016-12-13  201.279999  193.000000  193.179993  198.149994   6823900   \n",
       "2016-12-14  203.000000  196.759995  198.740005  198.690002   4150900   \n",
       "2016-12-15  200.740005  197.389999  198.410004  197.580002   3219600   \n",
       "2016-12-16  202.589996  197.600006  198.080002  202.490005   3779800   \n",
       "2016-12-19  204.449997  199.839996  202.490005  202.729996   3488100   \n",
       "2016-12-20  209.000000  202.500000  203.050003  208.789993   4689100   \n",
       "2016-12-21  212.229996  207.410004  208.449997  207.699997   5207600   \n",
       "\n",
       "             Adj Close  \n",
       "Date                    \n",
       "2015-01-02  219.309998  \n",
       "2015-01-05  210.089996  \n",
       "2015-01-06  211.279999  \n",
       "2015-01-07  210.949997  \n",
       "2015-01-08  210.619995  \n",
       "2015-01-09  206.660004  \n",
       "2015-01-12  202.210007  \n",
       "2015-01-13  204.250000  \n",
       "2015-01-14  192.690002  \n",
       "2015-01-15  191.869995  \n",
       "2015-01-16  193.070007  \n",
       "2015-01-20  191.929993  \n",
       "2015-01-21  196.570007  \n",
       "2015-01-22  201.619995  \n",
       "2015-01-23  201.289993  \n",
       "2015-01-26  206.550003  \n",
       "2015-01-27  205.979996  \n",
       "2015-01-28  199.369995  \n",
       "2015-01-29  205.199997  \n",
       "2015-01-30  203.600006  \n",
       "2015-02-02  210.940002  \n",
       "2015-02-03  218.360001  \n",
       "2015-02-04  218.550003  \n",
       "2015-02-05  220.990005  \n",
       "2015-02-06  217.360001  \n",
       "2015-02-09  217.479996  \n",
       "2015-02-10  216.289993  \n",
       "2015-02-11  212.800003  \n",
       "2015-02-12  202.880005  \n",
       "2015-02-13  203.770004  \n",
       "...                ...  \n",
       "2016-11-09  190.059998  \n",
       "2016-11-10  185.350006  \n",
       "2016-11-11  188.559998  \n",
       "2016-11-14  181.449997  \n",
       "2016-11-15  183.770004  \n",
       "2016-11-16  183.929993  \n",
       "2016-11-17  188.660004  \n",
       "2016-11-18  185.020004  \n",
       "2016-11-21  184.520004  \n",
       "2016-11-22  191.169998  \n",
       "2016-11-23  193.139999  \n",
       "2016-11-25  196.649994  \n",
       "2016-11-28  196.119995  \n",
       "2016-11-29  189.570007  \n",
       "2016-11-30  189.399994  \n",
       "2016-12-01  181.880005  \n",
       "2016-12-02  181.470001  \n",
       "2016-12-05  186.800003  \n",
       "2016-12-06  185.850006  \n",
       "2016-12-07  193.149994  \n",
       "2016-12-08  192.289993  \n",
       "2016-12-09  192.179993  \n",
       "2016-12-12  192.429993  \n",
       "2016-12-13  198.149994  \n",
       "2016-12-14  198.690002  \n",
       "2016-12-15  197.580002  \n",
       "2016-12-16  202.490005  \n",
       "2016-12-19  202.729996  \n",
       "2016-12-20  208.789993  \n",
       "2016-12-21  207.699997  \n",
       "\n",
       "[498 rows x 6 columns]"
      ]
     },
     "execution_count": 12,
     "metadata": {},
     "output_type": "execute_result"
    }
   ],
   "source": [
    "goog"
   ]
  },
  {
   "cell_type": "code",
   "execution_count": null,
   "metadata": {
    "collapsed": false
   },
   "outputs": [],
   "source": [
    " f = web2.DataReader('F', 'yahoo',start='1/1/2015', end='12/20/2016')"
   ]
  },
  {
   "cell_type": "code",
   "execution_count": null,
   "metadata": {
    "collapsed": false
   },
   "outputs": [],
   "source": [
    "from datetime import datetime\n",
    "start = datetime(2015, 2, 9)\n",
    "end = datetime(2017, 5, 24)\n",
    "f = web2.DataReader('F', 'yahoo', start, end)\n",
    "f.loc['2015-02-10']"
   ]
  },
  {
   "cell_type": "code",
   "execution_count": null,
   "metadata": {
    "collapsed": false
   },
   "outputs": [],
   "source": [
    "goog.loc.obj\n",
    "\n",
    "type(goog)\n",
    "tmp=goog.Open\n",
    "type(tmp)\n",
    "tmp.plot()\n",
    "goog['20d']=np.round(pd.rolling_mean(tmp,window=20),2)\n",
    "tmp5=goog['40d']=np.round(pd.rolling_mean(tmp,window=40),2)\n",
    "goog.loc.obj\n"
   ]
  },
  {
   "cell_type": "code",
   "execution_count": null,
   "metadata": {
    "collapsed": false
   },
   "outputs": [],
   "source": [
    "tmp5.diff"
   ]
  },
  {
   "cell_type": "code",
   "execution_count": null,
   "metadata": {
    "collapsed": false
   },
   "outputs": [],
   "source": [
    "goog['40d'].plot()"
   ]
  },
  {
   "cell_type": "code",
   "execution_count": null,
   "metadata": {
    "collapsed": false
   },
   "outputs": [],
   "source": [
    "tmp3=goog[['Close','20d']]"
   ]
  },
  {
   "cell_type": "code",
   "execution_count": null,
   "metadata": {
    "collapsed": false
   },
   "outputs": [],
   "source": [
    "type(tmp3)\n",
    "tmp3"
   ]
  },
  {
   "cell_type": "code",
   "execution_count": null,
   "metadata": {
    "collapsed": false,
    "scrolled": true
   },
   "outputs": [],
   "source": [
    "tmp4=goog.index\n",
    "goog.ix[goog.index[-30:]]"
   ]
  },
  {
   "cell_type": "code",
   "execution_count": null,
   "metadata": {
    "collapsed": false
   },
   "outputs": [],
   "source": [
    "goog.describe()"
   ]
  },
  {
   "cell_type": "code",
   "execution_count": null,
   "metadata": {
    "collapsed": false
   },
   "outputs": [],
   "source": [
    "a=goog[['Open']]\n",
    "type(a)\n",
    "b=a.Open\n",
    "a.plot()\n",
    "a.dtypes,a.shape\n",
    "goog[['20d']].plot()"
   ]
  },
  {
   "cell_type": "code",
   "execution_count": null,
   "metadata": {
    "collapsed": false
   },
   "outputs": [],
   "source": [
    "b\n",
    "b[1:100]"
   ]
  },
  {
   "cell_type": "code",
   "execution_count": null,
   "metadata": {
    "collapsed": false
   },
   "outputs": [],
   "source": [
    "goog[['Open']].plot(grid=True,figsize=(8,5))"
   ]
  },
  {
   "cell_type": "code",
   "execution_count": null,
   "metadata": {
    "collapsed": false
   },
   "outputs": [],
   "source": [
    "open_list=goog[['Open']]"
   ]
  },
  {
   "cell_type": "code",
   "execution_count": null,
   "metadata": {
    "collapsed": false
   },
   "outputs": [],
   "source": [
    "open_list.plot()"
   ]
  },
  {
   "cell_type": "code",
   "execution_count": null,
   "metadata": {
    "collapsed": false
   },
   "outputs": [],
   "source": [
    "r=range(0,8,2)\n",
    "r\n",
    "type(r)\n",
    "tmp=r.count(r>5)"
   ]
  },
  {
   "cell_type": "code",
   "execution_count": null,
   "metadata": {
    "collapsed": false
   },
   "outputs": [],
   "source": [
    "tmp"
   ]
  },
  {
   "cell_type": "code",
   "execution_count": null,
   "metadata": {
    "collapsed": false
   },
   "outputs": [],
   "source": [
    "%matplotlib inline\n",
    "goog[['Open','Volatility']].plot(subplots=True, color='blue', figsize=(8,6))"
   ]
  },
  {
   "cell_type": "code",
   "execution_count": null,
   "metadata": {
    "collapsed": true
   },
   "outputs": [],
   "source": []
  }
 ],
 "metadata": {
  "anaconda-cloud": {},
  "kernelspec": {
   "display_name": "Python [Root]",
   "language": "python",
   "name": "Python [Root]"
  },
  "language_info": {
   "codemirror_mode": {
    "name": "ipython",
    "version": 3
   },
   "file_extension": ".py",
   "mimetype": "text/x-python",
   "name": "python",
   "nbconvert_exporter": "python",
   "pygments_lexer": "ipython3",
   "version": "3.5.5"
  }
 },
 "nbformat": 4,
 "nbformat_minor": 0
}
